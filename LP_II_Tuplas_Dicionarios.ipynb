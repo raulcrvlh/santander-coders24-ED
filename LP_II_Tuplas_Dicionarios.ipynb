{
 "cells": [
  {
   "cell_type": "markdown",
   "metadata": {},
   "source": [
    "# MÓDULO: LÓGICA DE PROGRAMAÇÃO II\n",
    "\n",
    "## Ementa:\n",
    "* Dicionários e Tuplas\n",
    "* Funções (introdução, parâmetros default, args e kwargs)\n",
    "* Funções lambda/map/reduce/filter\n",
    "* List e dict e comprehension\n",
    "* Manipulação de arquivos\n",
    "* Tratamento de exceções\n",
    "\n",
    "### Aula 1:\n",
    "\n",
    "#### Tuplas\n",
    "Podem ser pensadas como listas mas com algumas restrições:\n",
    "* não podemos alterar uma tupla nem em ordem, nem conteúdo.\n",
    "\n",
    "Por que deveríamos usa-las então? Velocidade e organização de código. Um programador ao ver uma tupla sabe que seu conteúdo não pode ser alterado indiscrimindamente, além disso, a capacidade de alteração numa lista exige algorítmos mais complexos e lentos, então trabalhar com tuplas nos permite maior desempenho.\n",
    "\n",
    "As tuplas são declaradas entre parênteses, possuem algumas funções nativas semelhantes as listas, como len() e type(), e também são consultadas (slicing) da mesma maneira com os colchetes. As tuplas também aceitam dados mistos dentro de sí."
   ]
  },
  {
   "cell_type": "code",
   "execution_count": 2,
   "metadata": {},
   "outputs": [
    {
     "name": "stdout",
     "output_type": "stream",
     "text": [
      "<class 'tuple'>\n",
      "(3, 4, 5, 6)\n"
     ]
    }
   ],
   "source": [
    "exemplo_tupla = (1, 2, 3, 4, 5, 6)\n",
    "print(type(exemplo_tupla))\n",
    "\n",
    "print(exemplo_tupla[2:])"
   ]
  },
  {
   "cell_type": "code",
   "execution_count": 3,
   "metadata": {},
   "outputs": [
    {
     "name": "stdout",
     "output_type": "stream",
     "text": [
      "Pera\n",
      "5\n"
     ]
    }
   ],
   "source": [
    "tupla = ('Manga', 'Pera', 7, True, 0.56)\n",
    "print(tupla[1]) # imprime Pera\n",
    "print(len(tupla)) # imprime Pera"
   ]
  },
  {
   "cell_type": "markdown",
   "metadata": {},
   "source": [
    "Para alterarmos uma tupla, podemos, por exemplo, fazer um cast para listas, alterar a lista e retornar para tupla"
   ]
  },
  {
   "cell_type": "code",
   "execution_count": 4,
   "metadata": {},
   "outputs": [
    {
     "name": "stdout",
     "output_type": "stream",
     "text": [
      "Tupla antes de alterar: ('Manga', 'Pera', 7, True, 0.56)\n",
      "Tupla depois da alteração ('Manga', 'Pera', 7, True, 0.56, 'Aletração na tupla')\n"
     ]
    }
   ],
   "source": [
    "print(f'Tupla antes de alterar: {tupla}')\n",
    "lista_auxiliar = list(tupla)\n",
    "lista_auxiliar.append('Aletração na tupla')\n",
    "tupla = tuple(lista_auxiliar)\n",
    "print(f'Tupla depois da alteração {tupla}')"
   ]
  },
  {
   "cell_type": "markdown",
   "metadata": {},
   "source": [
    "Tuplas podem ser desempacotadas, isso é, desmembrar seus valores para variáveis individuais."
   ]
  },
  {
   "cell_type": "code",
   "execution_count": 5,
   "metadata": {},
   "outputs": [
    {
     "name": "stdout",
     "output_type": "stream",
     "text": [
      "5\n",
      "10\n"
     ]
    }
   ],
   "source": [
    "x,  y = (5, 10) # x = 5 e y = 10\n",
    "print(x)\n",
    "print(y)"
   ]
  },
  {
   "cell_type": "markdown",
   "metadata": {},
   "source": [
    "Observação/lembrete:\n",
    "Uma outra maneira de desempacotar utilizando *"
   ]
  },
  {
   "cell_type": "code",
   "execution_count": 6,
   "metadata": {},
   "outputs": [
    {
     "name": "stdout",
     "output_type": "stream",
     "text": [
      "1 2 3 [4, 5]\n"
     ]
    }
   ],
   "source": [
    "a, b, c = 1, 2, 3 # python também identifica como tupla\n",
    "# a, b, c = 1, 2, 3, 4, 5 # ValueError, porque não tem variáveis suficiente para guardar todos os valores\n",
    "a, b, c, *_ = (1, 2, 3, 4, 5)\n",
    "print(a, b, c, _)\n",
    "# print(_)"
   ]
  },
  {
   "cell_type": "code",
   "execution_count": 7,
   "metadata": {},
   "outputs": [
    {
     "name": "stdout",
     "output_type": "stream",
     "text": [
      "1 [2, 3, 4, 5] 6\n"
     ]
    }
   ],
   "source": [
    "a, *b, c = 1, 2, 3, 4, 5, 6\n",
    "print(a, b, c)"
   ]
  },
  {
   "cell_type": "markdown",
   "metadata": {},
   "source": [
    "também podemos guardar essas variáveis em uma tupla"
   ]
  },
  {
   "cell_type": "code",
   "execution_count": 8,
   "metadata": {},
   "outputs": [
    {
     "name": "stdout",
     "output_type": "stream",
     "text": [
      "1 2 [3, 4, 5, 6] 7\n",
      "<class 'int'> <class 'int'> <class 'list'> <class 'int'>\n"
     ]
    }
   ],
   "source": [
    "(a, b, *c, d) = 1, 2, 3, 4, 5, 6, 7\n",
    "print(a, b, c, d)\n",
    "print(type(a), type(b), type(c), type(d))"
   ]
  },
  {
   "cell_type": "markdown",
   "metadata": {},
   "source": [
    "Tuplas podem ser percorridas em loop igualmente às listas, além disso podemos concatenar tuplas com o + e multiplicar elas por inteiros usando *"
   ]
  },
  {
   "cell_type": "code",
   "execution_count": 9,
   "metadata": {},
   "outputs": [
    {
     "name": "stdout",
     "output_type": "stream",
     "text": [
      "morango\n",
      "abacaxi\n",
      "pera\n",
      "maça\n",
      "tupla concatenada: ('morango', 'abacaxi', 'pera', 'maça', 'string', 50)\n",
      "Tupla dobrada: ('morango', 'abacaxi', 'pera', 'maça', 'string', 50, 'morango', 'abacaxi', 'pera', 'maça', 'string', 50)\n"
     ]
    }
   ],
   "source": [
    "tupla_1 = ('morango', 'abacaxi', 'pera', 'maça')\n",
    "\n",
    "for item in tupla_1:\n",
    "    print(item)\n",
    "\n",
    "tupla_2 = ('string', 50)\n",
    "tupla_3 = tupla_1 + tupla_2\n",
    "print(f'tupla concatenada: {tupla_3}')\n",
    "\n",
    "tupla_dobrada = tupla_3 * 2 # repete por n vezes a tupla/lista\n",
    "print(f'Tupla dobrada: {tupla_dobrada}')"
   ]
  },
  {
   "cell_type": "markdown",
   "metadata": {},
   "source": [
    "As tuplas também possuem os métodos .count() e .index() que, respectivamente, contam quantos dados iguais poussui com base ao que passarmos, e em qual index está o primeiro dado igual ao que passamos."
   ]
  },
  {
   "cell_type": "code",
   "execution_count": 13,
   "metadata": {},
   "outputs": [
    {
     "name": "stdout",
     "output_type": "stream",
     "text": [
      "1\n",
      "Abacaxi apareice 2 vezes na lista\n",
      "A palavra pera aparece nos índices [2, 8]\n"
     ]
    }
   ],
   "source": [
    "print(tupla_dobrada.index('abacaxi')) # mostra o primeiro index encontrado\n",
    "frequencia_abacaxi = tupla_dobrada.count('abacaxi')\n",
    "print(f'Abacaxi apareice {frequencia_abacaxi} vezes na lista')\n",
    "\n",
    "# Encontrar todos os índices de uma determinada palavra em uma lista\n",
    "indices_palavra = []\n",
    "palavra = 'pera'\n",
    "\n",
    "for i in range(len(tupla_dobrada)):\n",
    "    # print(i)\n",
    "\n",
    "    if tupla_dobrada[i] == palavra:\n",
    "        indices_palavra.append(i)\n",
    "\n",
    "print(f'A palavra {palavra} aparece nos índices {indices_palavra}')"
   ]
  },
  {
   "cell_type": "markdown",
   "metadata": {},
   "source": [
    "#### Dicionários: Diferenças e similaridades para o seu xará mais conhecido\n",
    "* dicionário é um json\n",
    "\n",
    "Dicionários também podem ser pensados analogamente a listas, mas não pensaremos mais no conceito de index e sim em palavras-chave ou chave-valor.\n",
    "Assim como um dicionário real possui palavras e suas definições, um dicionário em Python também.\n",
    "Enquanto devemos nos atentar que um dicionário não pode ter duas definições para uma mesma palavra (mas pode ter uma definição única definida por uma lista!)\n",
    "\n",
    "Dicionários são declarados entre chaves, e acessados em colchetes (usando as plavras-chave e não as indexes) ou uma função get() usando a palavra-chave como parâmetro.\n",
    "Além disso, com a função keys() podemos listar todas as palavras-chave de um dado dicionário.\n",
    "\n",
    "* key : value"
   ]
  },
  {
   "cell_type": "code",
   "execution_count": 16,
   "metadata": {},
   "outputs": [
    {
     "name": "stdout",
     "output_type": "stream",
     "text": [
      "{'nome': 'Raul Felipe', 'idade': 30, 'filhos': [], 'pet': ['bart', 'gina'], 'profissao': 'engenheiro'}\n"
     ]
    }
   ],
   "source": [
    "pessoa = {\n",
    "    'nome': 'Raul Felipe',\n",
    "    'idade': 30,\n",
    "    'filhos': [],\n",
    "    'pet': ['bart', 'gina'],\n",
    "    'profissao': 'engenheiro',\n",
    "}\n",
    "\n",
    "print(pessoa)"
   ]
  },
  {
   "cell_type": "markdown",
   "metadata": {},
   "source": [
    "# Aula 2"
   ]
  },
  {
   "cell_type": "code",
   "execution_count": 17,
   "metadata": {},
   "outputs": [
    {
     "data": {
      "text/plain": [
       "'Raul Felipe'"
      ]
     },
     "execution_count": 17,
     "metadata": {},
     "output_type": "execute_result"
    }
   ],
   "source": [
    "pessoa.get('nome')"
   ]
  },
  {
   "cell_type": "code",
   "execution_count": 19,
   "metadata": {},
   "outputs": [
    {
     "name": "stdout",
     "output_type": "stream",
     "text": [
      "{'chave 1': None, 'chave 2': None, 'chave 3': None}\n"
     ]
    }
   ],
   "source": [
    "dicionario = {}\n",
    "dicionario = dicionario.fromkeys(['chave 1', 'chave 2', 'chave 3'])\n",
    "print(dicionario)"
   ]
  },
  {
   "cell_type": "code",
   "execution_count": 22,
   "metadata": {},
   "outputs": [
    {
     "name": "stdout",
     "output_type": "stream",
     "text": [
      "{'chave 1': 'valor_unico', 'chave 2': 'valor_unico', 'chave 3': 'valor_unico'}\n"
     ]
    }
   ],
   "source": [
    "dicionario = dicionario.fromkeys(['chave 1', 'chave 2', 'chave 3'], 'valor_unico') # aceita um único valor\n",
    "print(dicionario)"
   ]
  },
  {
   "cell_type": "code",
   "execution_count": 24,
   "metadata": {},
   "outputs": [
    {
     "name": "stdout",
     "output_type": "stream",
     "text": [
      "{'nome': None, 'idade': None, 'filhos': None, 'pet': None, 'profissao': None}\n"
     ]
    }
   ],
   "source": [
    "copia_dict = {}\n",
    "copia_dict = copia_dict.fromkeys(pessoa.keys())\n",
    "print(copia_dict)"
   ]
  },
  {
   "cell_type": "markdown",
   "metadata": {},
   "source": [
    "vamos aplicar mais alguns métodos para extrair informações do meu dicionário"
   ]
  },
  {
   "cell_type": "code",
   "execution_count": 45,
   "metadata": {},
   "outputs": [
    {
     "name": "stdout",
     "output_type": "stream",
     "text": [
      "dicionario {'nome': 'Raul Felipe', 'idade': 30, 'filhos': [], 'pet': ['bart', 'gina'], 'profissao': 'engenheiro'} \n",
      "\n",
      "chave-dicionario dict_keys(['nome', 'idade', 'filhos', 'pet', 'profissao']) \n",
      "\n",
      "valores-dicionario dict_values(['Raul Felipe', 30, [], ['bart', 'gina'], 'engenheiro']) \n",
      "\n",
      "pegar uma chave específica ['bart', 'gina'] \n",
      "\n",
      "chave-valor dentro de tupla dict_items([('nome', 'Raul Felipe'), ('idade', 30), ('filhos', []), ('pet', ['bart', 'gina']), ('profissao', 'engenheiro')]) \n",
      "\n"
     ]
    }
   ],
   "source": [
    "pessoa = {\n",
    "    'nome': 'Raul Felipe',\n",
    "    'idade': 30,\n",
    "    'filhos': [],\n",
    "    'pet': ['bart', 'gina'],\n",
    "    'profissao': 'engenheiro',\n",
    "}\n",
    "\n",
    "print('dicionario', pessoa, '\\n')\n",
    "print('chave-dicionario', pessoa.keys(), '\\n')\n",
    "print('valores-dicionario', pessoa.values(), '\\n')\n",
    "print('pegar uma chave específica', pessoa.get('pet'), '\\n')\n",
    "print('chave-valor dentro de tupla', pessoa.items(), '\\n')"
   ]
  },
  {
   "cell_type": "code",
   "execution_count": 34,
   "metadata": {},
   "outputs": [
    {
     "data": {
      "text/plain": [
       "['nome', 'idade', 'filhos', 'pet', 'profissao']"
      ]
     },
     "execution_count": 34,
     "metadata": {},
     "output_type": "execute_result"
    }
   ],
   "source": [
    "list(pessoa.keys())"
   ]
  },
  {
   "cell_type": "markdown",
   "metadata": {},
   "source": [
    "Podemos adicionar itens de um dicionario usando nomeDic['novaPalavraChave'] = valor, podemos atualizar da mesma maneira mas usando uma palavra-chave já existente, ou mesmo usar o método update() com o parâmetro {palavraChava\":novoValor}. Já para apagar itens temos várias maneiras: podemos usar o método pop() com a palavra-chave a ser deletada como parâmetro, ou o método popitem() para deletar o último item, ou mesmo a del dicionario['chaveParaDeletar'], por fim temos o método clear() que limpa o dicionário todo."
   ]
  },
  {
   "cell_type": "code",
   "execution_count": 46,
   "metadata": {},
   "outputs": [
    {
     "name": "stdout",
     "output_type": "stream",
     "text": [
      "dicionario {'nome': 'Raul Felipe', 'idade': 30, 'filhos': [], 'pet': ['bart', 'gina'], 'profissao': 'engenheiro'} \n",
      "\n",
      "dicionario incrementado {'nome': 'Raul Felipe', 'idade': 30, 'filhos': [], 'pet': ['bart', 'gina'], 'profissao': 'engenheiro', 'nacionalidade': 'brasileiro'} \n",
      "\n",
      "novo nome: {'nome': 'pedro', 'idade': 30, 'filhos': [], 'pet': ['bart', 'gina'], 'profissao': 'engenheiro', 'nacionalidade': 'brasileiro'} \n",
      "\n",
      "dicionario atualizado com update {'nome': 'pedro', 'idade': 25, 'filhos': [], 'pet': ['bart', 'gina'], 'profissao': 'engenheiro', 'nacionalidade': 'chileno', 'hobby': 'cozinhar'} \n",
      "\n"
     ]
    }
   ],
   "source": [
    "print('dicionario', pessoa, '\\n')\n",
    "\n",
    "# adicionar chave e valor\n",
    "pessoa['nacionalidade'] = 'brasileiro'\n",
    "\n",
    "print('dicionario incrementado', pessoa, '\\n')\n",
    "\n",
    "# alterar chave-valor já existente\n",
    "pessoa['nome'] = 'pedro'\n",
    "print('novo nome:', pessoa, '\\n')\n",
    "\n",
    "# insere ou substitui novos valores com base na chave, se a chave existir ele atualiza, se não existir ele cria\n",
    "pessoa.update({'idade': 25, 'nacionalidade': 'chileno', 'hobby': 'cozinhar'}) \n",
    "print('dicionario atualizado com update', pessoa, '\\n')"
   ]
  },
  {
   "cell_type": "code",
   "execution_count": 47,
   "metadata": {},
   "outputs": [
    {
     "name": "stdout",
     "output_type": "stream",
     "text": [
      "dicionario sem nome:  {'idade': 25, 'filhos': [], 'pet': ['bart', 'gina'], 'profissao': 'engenheiro', 'nacionalidade': 'chileno', 'hobby': 'cozinhar'} \n",
      "\n",
      "dicionario sem profissão:  {'idade': 25, 'filhos': [], 'pet': ['bart', 'gina'], 'nacionalidade': 'chileno', 'hobby': 'cozinhar'} \n",
      "\n",
      "dicionario sem a ultima chave-valor:  {'idade': 25, 'filhos': [], 'pet': ['bart', 'gina'], 'nacionalidade': 'chileno'} \n",
      "\n"
     ]
    }
   ],
   "source": [
    "# apagar chave e valor através de chaves\n",
    "pessoa.pop('nome')\n",
    "print('dicionario sem nome: ', pessoa, '\\n')\n",
    "\n",
    "# del -> deleta uma chave específica\n",
    "del pessoa['profissao']\n",
    "print('dicionario sem profissão: ', pessoa, '\\n')\n",
    "\n",
    "# apaga a última chave-valor do dicionário\n",
    "pessoa.popitem()\n",
    "print('dicionario sem a ultima chave-valor: ', pessoa, '\\n')"
   ]
  },
  {
   "cell_type": "code",
   "execution_count": 53,
   "metadata": {},
   "outputs": [
    {
     "data": {
      "text/plain": [
       "{'idade': 25, 'pet': ['bart', 'gina'], 'nacionalidade': 'chileno', 'netos': []}"
      ]
     },
     "execution_count": 53,
     "metadata": {},
     "output_type": "execute_result"
    }
   ],
   "source": [
    "# renomeando chave\n",
    "pessoa\n",
    "pessoa['netos'] = pessoa.pop('filhos') # retorna a lista com os filhos\n",
    "pessoa"
   ]
  },
  {
   "cell_type": "code",
   "execution_count": 52,
   "metadata": {},
   "outputs": [
    {
     "name": "stdout",
     "output_type": "stream",
     "text": [
      "<class 'str'>\n"
     ]
    }
   ],
   "source": [
    "dicionario_teste = {'nome': 'raul', 'idade': 30}\n",
    "chave_removida = dicionario_teste.pop('nome')\n",
    "print(type(chave_removida))"
   ]
  },
  {
   "cell_type": "markdown",
   "metadata": {},
   "source": [
    "Dicionários podem ser usados em loops normalmente também. Existem alguns métodos que podem ser úteis de serem utilizados."
   ]
  },
  {
   "cell_type": "code",
   "execution_count": 58,
   "metadata": {},
   "outputs": [
    {
     "data": {
      "text/plain": [
       "{'nome': 'raul', 'idade': 30, 'profissao': 'engenheiro'}"
      ]
     },
     "execution_count": 58,
     "metadata": {},
     "output_type": "execute_result"
    }
   ],
   "source": [
    "pessoa = {\n",
    "    'nome': 'raul',\n",
    "    'idade': 30,\n",
    "    'profissao': 'engenheiro',\n",
    "}\n",
    "pessoa"
   ]
  },
  {
   "cell_type": "code",
   "execution_count": 66,
   "metadata": {},
   "outputs": [
    {
     "name": "stdout",
     "output_type": "stream",
     "text": [
      "nome raul\n",
      "idade 30\n",
      "profissao engenheiro\n"
     ]
    }
   ],
   "source": [
    "for chave in pessoa.items():\n",
    "    print(chave)"
   ]
  },
  {
   "cell_type": "code",
   "execution_count": 67,
   "metadata": {},
   "outputs": [
    {
     "name": "stdout",
     "output_type": "stream",
     "text": [
      "raul\n",
      "30\n",
      "engenheiro\n"
     ]
    }
   ],
   "source": [
    "for valor in pessoa.values():\n",
    "    print(valor)"
   ]
  },
  {
   "cell_type": "code",
   "execution_count": 68,
   "metadata": {},
   "outputs": [
    {
     "name": "stdout",
     "output_type": "stream",
     "text": [
      "raul\n",
      "30\n",
      "engenheiro\n"
     ]
    }
   ],
   "source": [
    "for valor in pessoa:\n",
    "    print(pessoa[valor])"
   ]
  },
  {
   "cell_type": "code",
   "execution_count": 70,
   "metadata": {},
   "outputs": [
    {
     "name": "stdout",
     "output_type": "stream",
     "text": [
      "0 ('nome', 'raul')\n",
      "1 ('idade', 30)\n",
      "2 ('profissao', 'engenheiro')\n"
     ]
    }
   ],
   "source": [
    "# imprime uma tupla com \"índice\" e chave do dicionario\n",
    "for chave, valor in enumerate(pessoa.items()):\n",
    "    print(chave, valor)"
   ]
  },
  {
   "cell_type": "code",
   "execution_count": 72,
   "metadata": {},
   "outputs": [
    {
     "name": "stdout",
     "output_type": "stream",
     "text": [
      "('nome', 'raul')\n",
      "('idade', 30)\n",
      "('profissao', 'engenheiro')\n"
     ]
    }
   ],
   "source": [
    "for x in pessoa.items():\n",
    "    print(x)"
   ]
  },
  {
   "cell_type": "code",
   "execution_count": 73,
   "metadata": {},
   "outputs": [
    {
     "name": "stdout",
     "output_type": "stream",
     "text": [
      "A chave nome tem valor raul\n",
      "A chave idade tem valor 30\n",
      "A chave profissao tem valor engenheiro\n"
     ]
    }
   ],
   "source": [
    "for chave, valor in pessoa.items():\n",
    "    print(f'A chave {chave} tem valor {valor}')"
   ]
  },
  {
   "cell_type": "markdown",
   "metadata": {},
   "source": [
    "Assim como listas podem armazenar listas, dicionários podem armazenar dicionários, formando dicionários de mais de uma dimensão.\n",
    "Veja o exemplo:"
   ]
  },
  {
   "cell_type": "code",
   "execution_count": 75,
   "metadata": {},
   "outputs": [
    {
     "data": {
      "text/plain": [
       "'marcio'"
      ]
     },
     "execution_count": 75,
     "metadata": {},
     "output_type": "execute_result"
    }
   ],
   "source": [
    "lista = [[12,13,14,15],[1,2,3,4],['marcio', 'joao', 'raul','marcelo']]\n",
    "lista[-1][0] # pega o primeiro valor da última lista"
   ]
  },
  {
   "cell_type": "code",
   "execution_count": 79,
   "metadata": {},
   "outputs": [
    {
     "name": "stdout",
     "output_type": "stream",
     "text": [
      "marcelo\n",
      "15\n",
      "2002\n"
     ]
    }
   ],
   "source": [
    "filhos = {\n",
    "    'filho1': {\n",
    "        'nome': 'marcelo',\n",
    "        'idade': 12,\n",
    "        'nascimento': 2008,\n",
    "    },\n",
    "    'filho2': {\n",
    "        'nome': 'gabriel',\n",
    "        'idade': 15,\n",
    "        'nascimento': 2005,\n",
    "    },\n",
    "    'filho3':{\n",
    "        'nome': 'amanda',\n",
    "        'idade': 18,\n",
    "        'nascimento': 2002,\n",
    "\n",
    "    },\n",
    "\n",
    "}\n",
    "print(filhos['filho1']['nome']) # mostra o nome do filho1\n",
    "print(filhos['filho2']['idade']) # mostra idade do filho2\n",
    "print(filhos['filho3']['nascimento']) # mostra ano de nascimento do filho3"
   ]
  },
  {
   "cell_type": "code",
   "execution_count": 80,
   "metadata": {},
   "outputs": [
    {
     "name": "stdout",
     "output_type": "stream",
     "text": [
      "{'nome': 'marcelo', 'idade': 12, 'nascimento': 2008}\n",
      "{'nome': 'gabriel', 'idade': 15, 'nascimento': 2005}\n",
      "{'nome': 'amanda', 'idade': 18, 'nascimento': 2002}\n"
     ]
    }
   ],
   "source": [
    "for filho in filhos.values():\n",
    "    print(filho)"
   ]
  },
  {
   "cell_type": "markdown",
   "metadata": {},
   "source": [
    "No contexto de dicionários o comando in é útil. Imagine que você quer adicionar valores em uma chave mas não sabe sequer se ela existe naquele contexto, como poderíamos fazer?"
   ]
  },
  {
   "cell_type": "code",
   "execution_count": 88,
   "metadata": {},
   "outputs": [
    {
     "name": "stdout",
     "output_type": "stream",
     "text": [
      "o marcelo existe\n"
     ]
    }
   ],
   "source": [
    "# checa se um determinado valor está contido na lista\n",
    "# 'theo' in ['joão', 'maria', 'josé']\n",
    "\n",
    "if 'marcelo' in filhos['filho1'].values():\n",
    "    print('o marcelo existe')"
   ]
  },
  {
   "cell_type": "code",
   "execution_count": 90,
   "metadata": {},
   "outputs": [
    {
     "data": {
      "text/plain": [
       "False"
      ]
     },
     "execution_count": 90,
     "metadata": {},
     "output_type": "execute_result"
    }
   ],
   "source": [
    "estudante = {\n",
    "    'nome': 'raul',\n",
    "    'graduacao': 'engenharia',\n",
    "\n",
    "}\n",
    "\n",
    "'materiais' in estudante"
   ]
  },
  {
   "cell_type": "code",
   "execution_count": 94,
   "metadata": {},
   "outputs": [
    {
     "name": "stdout",
     "output_type": "stream",
     "text": [
      "tem a chave materiais\n",
      "{'nome': 'raul', 'graduacao': 'engenharia', 'materiais': ['multimetro', 'paquimetro', 'compasso']}\n"
     ]
    }
   ],
   "source": [
    "materiais = ['multimetro', 'paquimetro', 'compasso']\n",
    "\n",
    "if 'materiais' not in estudante:\n",
    "    estudante['materiais'] = materiais\n",
    "else:\n",
    "    print('tem a chave materiais')\n",
    "\n",
    "    \n",
    "\n",
    "print(estudante)"
   ]
  },
  {
   "cell_type": "code",
   "execution_count": 106,
   "metadata": {},
   "outputs": [
    {
     "data": {
      "text/plain": [
       "{'aluno1': [7, 8, 5, 10],\n",
       " 'aluno2': [5, 10, 4, 10],\n",
       " 'aluno3': [8, 5, 10, 7.5],\n",
       " 'aluno4': [10, 8, 5.2, 6.3]}"
      ]
     },
     "execution_count": 106,
     "metadata": {},
     "output_type": "execute_result"
    }
   ],
   "source": [
    "notas_alunos = {\n",
    "    \"aluno1\": [7, 8, 5, 10],\n",
    "    \"aluno2\": [5, 10, 4, 10],\n",
    "    \"aluno3\": [8, 5, 10, 7.5],\n",
    "    \"aluno4\": [10, 8, 5.2, 6.3],\n",
    "}\n",
    "\n",
    "notas_alunos"
   ]
  },
  {
   "cell_type": "code",
   "execution_count": 96,
   "metadata": {},
   "outputs": [
    {
     "name": "stdout",
     "output_type": "stream",
     "text": [
      "aluno1\n",
      "aluno2\n",
      "aluno3\n",
      "aluno4\n"
     ]
    }
   ],
   "source": [
    "for chave in notas_alunos:\n",
    "    print(chave)"
   ]
  },
  {
   "cell_type": "code",
   "execution_count": 109,
   "metadata": {},
   "outputs": [
    {
     "name": "stdout",
     "output_type": "stream",
     "text": [
      "O aluno1 tirou 10 1 vez(es)\n",
      "O aluno2 tirou 10 2 vez(es)\n",
      "O aluno3 tirou 10 1 vez(es)\n",
      "O aluno4 tirou 10 1 vez(es)\n"
     ]
    }
   ],
   "source": [
    "# quais alunos tiveram nota 10 e a quantidade\n",
    "for aluno, nota in notas_alunos.items():\n",
    "    # print(aluno, nota)\n",
    "    if 10 in nota:\n",
    "        print(f'O {aluno} tirou 10 {nota.count(10)} vez(es)')"
   ]
  },
  {
   "cell_type": "markdown",
   "metadata": {},
   "source": [
    "exercícios tpulas e dicionários\n",
    "\n",
    "1) Crie um dicionário para as seguintes relações:\n",
    "\n",
    "banana:3.0\n",
    "cebola:4.0\n",
    "maçã:5.7\n",
    "abacaxi:8.0"
   ]
  },
  {
   "cell_type": "code",
   "execution_count": 129,
   "metadata": {},
   "outputs": [
    {
     "name": "stdout",
     "output_type": "stream",
     "text": [
      "{'banana': 3.0, 'cebola': 4.0, 'maça': 5.7, 'abacaxi': 8.0}\n"
     ]
    }
   ],
   "source": [
    "dict_frutas = {\n",
    "    'banana': 3.0,\n",
    "    'cebola': 4.0,\n",
    "    'maça': 5.7,\n",
    "    'abacaxi': 8.0,\n",
    "}\n",
    "print(dict_frutas)"
   ]
  },
  {
   "cell_type": "markdown",
   "metadata": {},
   "source": [
    "2. Altere o valor da chave maçã para 8.6"
   ]
  },
  {
   "cell_type": "code",
   "execution_count": 130,
   "metadata": {},
   "outputs": [
    {
     "name": "stdout",
     "output_type": "stream",
     "text": [
      "{'banana': 3.0, 'cebola': 4.0, 'maça': 8.6, 'abacaxi': 8.0}\n"
     ]
    }
   ],
   "source": [
    "dict_frutas['maça'] = 8.6\n",
    "print(dict_frutas)"
   ]
  },
  {
   "cell_type": "markdown",
   "metadata": {},
   "source": [
    "3. Faça um código que conte quantas vezes cada elemento aparece em uma lista. Esta função deverá guardar os dados em um dicionário no qual as chaves são os elementos inseridos e os valores são a contagem de quantas vezes esse elemento aparece. ex de output{'banana':2, \"maçã\": 1}"
   ]
  },
  {
   "cell_type": "code",
   "execution_count": 128,
   "metadata": {},
   "outputs": [
    {
     "data": {
      "text/plain": [
       "{'banana': 2, 'maçã': 2, 'tomate': 1, 'caqui': 1}"
      ]
     },
     "execution_count": 128,
     "metadata": {},
     "output_type": "execute_result"
    }
   ],
   "source": [
    "dicionario_auxiliar = {}\n",
    "\n",
    "lista = ['banana', 'maçã', 'banana', 'tomate', 'caqui', 'maçã']\n",
    "\n",
    "for item in lista:\n",
    "    dicionario_auxiliar.update({item: lista.count(item)}) \n",
    "dicionario_auxiliar"
   ]
  },
  {
   "cell_type": "code",
   "execution_count": 132,
   "metadata": {},
   "outputs": [
    {
     "data": {
      "text/plain": [
       "{'banana': 2, 'maçã': 2, 'tomate': 1, 'caqui': 1}"
      ]
     },
     "execution_count": 132,
     "metadata": {},
     "output_type": "execute_result"
    }
   ],
   "source": [
    "def conta_elementos(lista):\n",
    "    for item in lista:\n",
    "        dicionario_auxiliar.update({item: lista.count(item)})\n",
    "    return dicionario_auxiliar\n",
    "\n",
    "conta_elementos(lista)"
   ]
  },
  {
   "cell_type": "markdown",
   "metadata": {},
   "source": [
    "4. Faça um código que receba múltiplos de inteiros e em seguida informe quantos são pares e quantos são ímpares"
   ]
  },
  {
   "cell_type": "code",
   "execution_count": 131,
   "metadata": {},
   "outputs": [
    {
     "name": "stdout",
     "output_type": "stream",
     "text": [
      "A lista possui 3 números pares e 3 números ímpares.\n"
     ]
    }
   ],
   "source": [
    "numeros = [5, 8, 7, 16, 25, 30]\n",
    "par = 0\n",
    "for numero in numeros:\n",
    "\n",
    "    if numero % 2 == 0:\n",
    "        par += 1\n",
    "\n",
    "print(f'A lista possui {par} números pares e {len(numeros) - par} números ímpares.')\n",
    "\n",
    "\n"
   ]
  },
  {
   "cell_type": "code",
   "execution_count": 213,
   "metadata": {},
   "outputs": [
    {
     "name": "stdout",
     "output_type": "stream",
     "text": [
      "{'par': 3, 'impar': 4}\n"
     ]
    }
   ],
   "source": [
    "numeros = (1,2,3,4,5,6,7)\n",
    "par_impar = {'par': 0, 'impar': 0}\n",
    "for num in numeros:\n",
    "    if num % 2 == 0:\n",
    "        par_impar['par'] += 1\n",
    "    else:\n",
    "        par_impar['impar'] += 1\n",
    "\n",
    "print(par_impar)"
   ]
  },
  {
   "cell_type": "markdown",
   "metadata": {},
   "source": [
    "5. faça um código que recebe um elemento a ser encontrado no texto e substitui por outro elemento\n",
    "\n",
    "* pode utilizar o .replace()"
   ]
  },
  {
   "cell_type": "code",
   "execution_count": 4,
   "metadata": {},
   "outputs": [
    {
     "name": "stdout",
     "output_type": "stream",
     "text": [
      "Texto original: faça um código em python que recebe um elemento a ser encontrado no texto e substitui por outro elemento\n",
      "Texto modificado: faça um código em javascript que recebe um elemento a ser encontrado no texto e substitui por outro elemento\n"
     ]
    }
   ],
   "source": [
    "texto_original = 'faça um código em python que recebe um elemento a ser encontrado no texto e substitui por outro elemento'\n",
    "print(f'Texto original: {texto_original}')\n",
    "palavra = 'javascript'\n",
    "if 'python' in texto_original:\n",
    "    texto_modificado = texto_original.replace('python', palavra)\n",
    "\n",
    "print(f'Texto modificado: {texto_modificado}')"
   ]
  },
  {
   "cell_type": "markdown",
   "metadata": {},
   "source": [
    "6. Faça um código contador de palavras. O usuário vai inserir um texto qualquer e o programa vai contar a quantidade de cada palavra no texto, armazenando o resultado em um dicionário e exibindo o resultado para o usuário.\n",
    "\n",
    "* caso queira pode utilizar o .split() e .replace()"
   ]
  },
  {
   "cell_type": "code",
   "execution_count": 225,
   "metadata": {},
   "outputs": [
    {
     "name": "stdout",
     "output_type": "stream",
     "text": [
      "palavras: testando meu texto\n",
      "{'testando': 1, 'meu': 1, 'texto': 1}\n"
     ]
    }
   ],
   "source": [
    "entrada = input('Digite um texto para contarmos quantas palavras existem.')\n",
    "dicionario = {'à': 'a', 'á': 'a', 'â': 'a', 'ã': 'a', 'é': 'e', 'è': 'e', 'ê': 'e', 'í': 'i', 'ì': 'i', 'î': 'i', 'ó': 'o', 'ò': 'o', 'õ': 'o', 'ô': 'o', ',': ' ', '.': ' ', '-': ' ', '/': ' ', '?': ' ' }\n",
    "for chave, valor in dicionario.items():\n",
    "    entrada = entrada.replace(chave, valor)\n",
    "\n",
    "print(f'palavras: {entrada}')\n",
    "dicionario_palavras = {}\n",
    "dicionario_palavras = dicionario_palavras.fromkeys(entrada.split())\n",
    "\n",
    "\n",
    "for palavra in dicionario_palavras:\n",
    "    dicionario_palavras.update({palavra: entrada.count(palavra)})\n",
    "\n",
    "print(dicionario_palavras)"
   ]
  },
  {
   "cell_type": "code",
   "execution_count": 228,
   "metadata": {},
   "outputs": [
    {
     "name": "stdout",
     "output_type": "stream",
     "text": [
      "texto  teste do dicionario  sera que vai funcionar  \n"
     ]
    }
   ],
   "source": [
    "# %%timeit # pesquisar mais depois\n",
    "texto = 'texto, teste do dìcionário, será que vai funcionar? '\n",
    "dicionario = {'à': 'a', 'á': 'a', 'â': 'a', 'ã': 'a', 'é': 'e', 'è': 'e', 'ê': 'e', 'í': 'i', 'ì': 'i', 'î': 'i', 'ó': 'o', 'ò': 'o', 'õ': 'o', 'ô': 'o', ',': ' ', '.': ' ', '-': ' ', '/': ' ', '?': ' ' }\n",
    "for chave, valor in dicionario.items():\n",
    "    texto = texto.replace(chave, valor)\n",
    "\n",
    "print(texto)"
   ]
  },
  {
   "cell_type": "markdown",
   "metadata": {},
   "source": [
    "7. Faça um código para criar uma agenda telefônica. O programa deve armazenar o nome e um ou mais telefones do contato. Em seguida, o usuário vai informar o nome de algum contato armazenado e o programa deve retornar os número(s) do contato\n",
    "\n",
    "* caso queira pode utilizar o método .split()"
   ]
  },
  {
   "cell_type": "markdown",
   "metadata": {},
   "source": [
    "Recursos adicionados:\n",
    "\n",
    "* Editar nome do contato\n",
    "* Editar um número da lista de um contato\n",
    "* Excluir um número por vez de um contato\n",
    "* Excluir o contato da agenda\n",
    "* Incluir um contato que foi pesquisado e não está na agenda"
   ]
  },
  {
   "cell_type": "code",
   "execution_count": 43,
   "metadata": {},
   "outputs": [
    {
     "name": "stdout",
     "output_type": "stream",
     "text": [
      "----- Agenda eletrônica -----\n",
      "Agenda: \n",
      " {'raul': ['44999414922', '35371783']}\n",
      "Agenda: \n",
      " {'raul': ['44999414922', '35371783'], 'marcio': ['99999999999']}\n",
      "Os contatods do marcio são: ['99999999999']\n",
      "Os contatods do marcio são: ['99999999999']\n",
      "Agenda: \n",
      " {'raul': ['44999414922', '35371783']}\n"
     ]
    }
   ],
   "source": [
    "agenda = {}\n",
    "print(5 * '-', 'Agenda eletrônica', 5 * '-')\n",
    "\n",
    "while True:\n",
    "    # print('Escolha uma das opções: \\n', '1) Cadastrar contato \\n', '2) Pesquisar contato \\n', '3) Sair')\n",
    "    menu_1 = input('Escolha uma das opções: 1) Cadastrar contato, 2) Pesquisar contato, 3) Sair')\n",
    "\n",
    "    if '3' in menu_1:\n",
    "        break\n",
    "\n",
    "    elif '1' in menu_1: # CADASTRAR NOVO CONTATO\n",
    "        # solicitar o nome do contato\n",
    "        nome_contato = input('Insira o nome do contato').lower()\n",
    "        # verificar se o usuário digitou somente letras\n",
    "        if nome_contato.isalpha():\n",
    "            # converte nome para string\n",
    "            nome_contato = str(nome_contato)\n",
    "            #se a primeira letra do nome digitado não estiver na lista telefonica\n",
    "            if nome_contato not in agenda:\n",
    "                # cria um novo dicionário dentro da lista com a primeira letra do nome\n",
    "                num_telefone = input(f'Digite os contatos de telefone do(a) {nome_contato} separados por \",\"').split(\",\")\n",
    "                agenda[nome_contato] = num_telefone\n",
    "            else:\n",
    "                for nome in agenda:\n",
    "                    if nome_contato == agenda[nome]:\n",
    "                        print('Esse nome já existe, cadestre um novo ou altera o existente.')\n",
    "        else:\n",
    "            print('Digite um nome válido')\n",
    "        \n",
    "        print(f'Agenda: \\n {agenda}')\n",
    "\n",
    "    elif '2' in menu_1: # PESQUISAR CONTATO\n",
    "        count = 1\n",
    "        nome_procurado = input('Digite o nome que deseja procurar').lower()\n",
    "\n",
    "        if nome_procurado in agenda:\n",
    "            if len(agenda[nome_procurado]) > 1:\n",
    "                print(f'Os contatos do {nome_procurado} são: {agenda[nome_procurado]}')\n",
    "            else:\n",
    "                print(f'O contato do {nome_procurado} é: {agenda[nome_procurado]}')\n",
    "            # print(f'Deseja realizar alguma das operações? \\n', '1) Atualizar Nome\\n', '2) Atualizar contatos\\n', '3) Excluir contato\\n', '4) Retornar ao menu anterior\\n')\n",
    "            menu_2 = input('Escolha uma opção: 1) Editar Nome, 2) Editar um dos números, 3) Excluir um número, 4) Excluir contato da agenda, 5) Retornar ao menu anterior')\n",
    "            if '5' in menu_2: # VOLTA AO MENU ANTERIOR\n",
    "                continue\n",
    "\n",
    "            elif '1' in menu_2: # EDITAR NOME\n",
    "                # print('Digite o novo nome')\n",
    "                atualizar_nome = input('Digite o novo nome')\n",
    "                print(f'Nome antigo: {nome_contato}')\n",
    "                # copia os dados do contato antigo (nome_contato) para o novo contato (atualizar_nome)\n",
    "                agenda[atualizar_nome] = agenda[nome_contato]\n",
    "                del agenda[nome_contato] # apaga o contato antigo\n",
    "\n",
    "            elif '2' in menu_2: # EDITAR ALGUM NÚMERO DO CONTATO\n",
    "                # listar os contatos existentes da pessoa\n",
    "                tamanho_lista = len(agenda[nome_procurado]) # identifica o tamanho da lista de contatos do nome procurado\n",
    "                # print(tamanho_lista)\n",
    "                # lista em opções os contatos existentes na lista\n",
    "                for contato in agenda[nome_procurado]:\n",
    "                    print(f'{count}) {contato}')\n",
    "                    count += 1\n",
    "                    if count > tamanho_lista:\n",
    "                        print(f'{count}) Adicionar novo número a lista')\n",
    "\n",
    "                opcao = int(input('Escolha uma opção')) # usuário seleciona uma opção\n",
    "                # se a opção for maior que tamanho da lista significa que selecionou a última opção (adicionar novo número a lista)\n",
    "                if opcao > tamanho_lista:\n",
    "                    novo_numero = input('Digite o novo número para adicionar ao contato:')\n",
    "                    agenda[nome_procurado].append(novo_numero)\n",
    "                    count = 0\n",
    "                else:    \n",
    "                    # print(f'{agenda[nome_procurado][opcao-1]}')\n",
    "                    novo_numero = input(f'Digite o novo número para substituir {agenda[nome_procurado][opcao-1]}')\n",
    "                    del agenda[nome_procurado][opcao-1]\n",
    "                    agenda[nome_procurado].append(novo_numero)\n",
    "                    count = 0\n",
    "\n",
    "            elif '3' in menu_2: # EXCLUI UM NÚMERO DA LISTA DO CONTATO\n",
    "                for contato in agenda[nome_procurado]:\n",
    "                    print(f'{count}) {contato}')\n",
    "                    count += 1\n",
    "                print(f'{count}) Adicionar novo contato')\n",
    "                opcao = int(input('Escolha uma opção'))\n",
    "                print(f'Número excluído: {agenda[nome_procurado][opcao-1]}')\n",
    "                del agenda[nome_procurado][opcao-1]\n",
    "                count = 0\n",
    "            \n",
    "            elif '4' in menu_2: # EXCLUIR CONTATO DA AGENDA\n",
    "                del agenda[nome_procurado]\n",
    "\n",
    "        # se não existir, perguntar se o usuário deseja adicionar o nome na agenda\n",
    "        else:\n",
    "            print(f'Deseja adicionar {nome_procurado} na sua agenda? \\n', '[S]im ou [N]ão')\n",
    "            resposta = input(f\"Deseja adicionar {nome_procurado} na agenda? [S]im ou [N]ão\").lower()\n",
    "            if 's' in resposta:\n",
    "                print(f'Digite os números de {nome_procurado} separados por \",\"')\n",
    "                num_telefone = input(f'Digite os números de {nome_procurado} separados por \",\"').split(\",\")\n",
    "                agenda[nome_procurado] = num_telefone   \n",
    "        print(f'Agenda: \\n {agenda}')"
   ]
  }
 ],
 "metadata": {
  "kernelspec": {
   "display_name": "venv",
   "language": "python",
   "name": "python3"
  },
  "language_info": {
   "codemirror_mode": {
    "name": "ipython",
    "version": 3
   },
   "file_extension": ".py",
   "mimetype": "text/x-python",
   "name": "python",
   "nbconvert_exporter": "python",
   "pygments_lexer": "ipython3",
   "version": "3.12.2"
  }
 },
 "nbformat": 4,
 "nbformat_minor": 2
}
