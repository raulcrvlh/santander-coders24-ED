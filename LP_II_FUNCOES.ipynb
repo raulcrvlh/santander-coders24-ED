{
 "cells": [
  {
   "cell_type": "markdown",
   "metadata": {},
   "source": [
    "# Funções\n",
    "\n",
    "Na aula de hoje, vamos explorar o seguinte tópico em Python:\n",
    "\n",
    "### 1) Funções\n",
    "#### Habilidades a serem desenvolvidas\n",
    "\n",
    "Ao final da aula devemos conseguir:\n",
    "* Conhecer o conceito de funções e sua importância;\n",
    "* Saber criar funções em Python;\n"
   ]
  },
  {
   "cell_type": "markdown",
   "metadata": {},
   "source": [
    "### 1) Funções\n",
    "Até o momento, já vimos diversas funções em Python.\n",
    "* Na primeira aula, tivemos contato com a função ``print()``, que exibe um texto na tela;\n",
    "* Depois, aprendemos sobre a função ``input()``, que serve pra capturar algo que o usuário digita;\n",
    "* Em seguida, vimos algumas funções aplicada à listas, como a ``sorted()``, para ordenar uma lista;"
   ]
  },
  {
   "cell_type": "code",
   "execution_count": 4,
   "metadata": {},
   "outputs": [
    {
     "name": "stdout",
     "output_type": "stream",
     "text": [
      "olá\n"
     ]
    }
   ],
   "source": [
    "print(\"olá\")"
   ]
  },
  {
   "cell_type": "code",
   "execution_count": 5,
   "metadata": {},
   "outputs": [
    {
     "data": {
      "text/plain": [
       "'PYTHON'"
      ]
     },
     "execution_count": 5,
     "metadata": {},
     "output_type": "execute_result"
    }
   ],
   "source": [
    "'python'.upper()"
   ]
  },
  {
   "cell_type": "code",
   "execution_count": 2,
   "metadata": {},
   "outputs": [
    {
     "data": {
      "text/plain": [
       "20"
      ]
     },
     "execution_count": 2,
     "metadata": {},
     "output_type": "execute_result"
    }
   ],
   "source": [
    "max(1,2,3,4,10,20,2)"
   ]
  },
  {
   "cell_type": "markdown",
   "metadata": {},
   "source": [
    "A intuição sobre funções, então, já nos é familiar:\n",
    "\n",
    "Uma função é um objeto utilizado para fazer determinadas ações.\n",
    "\n",
    "Podemos ver uma função como uma \"caixinha\" que pega uma entrada (o argumento), faz algum processamento, e então retorna uma saída (o output)\n",
    "\n",
    "<img src=\"https://s3.amazonaws.com/illustrativemathematics/images/000/000/782/medium/Task_1_8c7a6a9a2e1421586c40f125bd783de3.jpg?1335065782\" width=300>\n",
    "\n",
    "\n",
    "<img src=\"https://1.bp.blogspot.com/_MhOt9n2UJbM/TC6emeqHdqI/AAAAAAAAAiQ/1brsWuWvOC0/s1600/function-machine.png\" width=300>\n",
    " \n",
    "Aprenderemos agora como criar nossas próprias funções em Python!"
   ]
  },
  {
   "cell_type": "markdown",
   "metadata": {},
   "source": [
    "Aprenderemos agora como criar **nossas próprias funções** em Python"
   ]
  },
  {
   "cell_type": "markdown",
   "metadata": {},
   "source": [
    "A estrutura de **definição de uma função** é dada por:\n",
    "\n",
    "```python\n",
    "def nomeDaFuncao(argumento1, argumento2, ...):\n",
    "    \n",
    "    instrucoes\n",
    "    \n",
    "    return saida\n",
    "```"
   ]
  },
  {
   "cell_type": "code",
   "execution_count": 19,
   "metadata": {},
   "outputs": [
    {
     "name": "stdout",
     "output_type": "stream",
     "text": [
      "<class 'list'> [1, 2, 3, 4]\n",
      "<class 'int'> 11\n",
      "<class 'str'> 29\n"
     ]
    }
   ],
   "source": [
    "# type hint = DICA de tipo  -> dica do tipo de retorno\n",
    "def funcao(a:list, b:list) -> int:\n",
    "    c = a + b\n",
    "    return c\n",
    "\n",
    "print(type(funcao([1,2], [3,4])), funcao([1,2], [3,4]))\n",
    "print(type(funcao(2,9)), funcao(2,9))\n",
    "print(type(funcao('2','9')), funcao('2','9'))\n",
    "\n"
   ]
  },
  {
   "cell_type": "markdown",
   "metadata": {},
   "source": [
    "Há 5 elementos fundamentais para a criação de novas funções em Python:\n",
    "\n",
    "* Primeiramente, usamos \"def\" para deixar claro que estamos definindo uma função;\n",
    "* Depois, damos um nome para nossa função;\n",
    "* Em parênteses, falamos quais serão os argumentos da função -- esses são os inputs, e em python, esses elementos são opcionais!\n",
    "* Depois, explicitamos qual é o processamento feito pela função;\n",
    "* Ao fim, dizemos o que a função irá retornar -- esses são os outputs, e em Python esse elemento é opcional!"
   ]
  },
  {
   "cell_type": "markdown",
   "metadata": {},
   "source": [
    "Sepre que quisermos **executar** uma função, basta **chamá-la**, dando os argumentos desejados!\n",
    "\n",
    "```nome_da_funcao(argumentos)```"
   ]
  },
  {
   "cell_type": "markdown",
   "metadata": {},
   "source": [
    "**Uma função sem parâmetros e sem return**\n",
    "\n",
    "Apenas imprime algo na tela, mas sempre A MESMA COISA"
   ]
  },
  {
   "cell_type": "code",
   "execution_count": 21,
   "metadata": {},
   "outputs": [],
   "source": [
    "def cumprimenta():\n",
    "    print('Hello World!')\n",
    "\n"
   ]
  },
  {
   "cell_type": "code",
   "execution_count": 24,
   "metadata": {},
   "outputs": [
    {
     "name": "stdout",
     "output_type": "stream",
     "text": [
      "Olá maria\n"
     ]
    }
   ],
   "source": [
    "def cumprimenta_com_nome(nome):\n",
    "    print(f'Olá {nome}')\n",
    "\n",
    "cumprimenta_com_nome('maria')"
   ]
  },
  {
   "cell_type": "markdown",
   "metadata": {},
   "source": [
    "**Chamando a função**"
   ]
  },
  {
   "cell_type": "code",
   "execution_count": 22,
   "metadata": {},
   "outputs": [
    {
     "name": "stdout",
     "output_type": "stream",
     "text": [
      "Hello World!\n"
     ]
    }
   ],
   "source": [
    "cumprimenta()"
   ]
  },
  {
   "cell_type": "markdown",
   "metadata": {},
   "source": [
    "**Uma função com dois parâmetros, mas ainda sem return**\n",
    "\n",
    "Imprimindo algo na tela, mas dependendo do segundo argumento que eu passar"
   ]
  },
  {
   "cell_type": "code",
   "execution_count": 25,
   "metadata": {},
   "outputs": [
    {
     "name": "stdout",
     "output_type": "stream",
     "text": [
      "bom dia raul\n"
     ]
    }
   ],
   "source": [
    "def cumprimenta_horario(nome, hora):\n",
    "    if hora < 12:\n",
    "        print(f'bom dia {nome}')\n",
    "    elif hora < 18:\n",
    "        print(f'boa tarde {nome}')\n",
    "    else:\n",
    "        print(f'boa noite {nome}')\n",
    "\n",
    "cumprimenta_horario('raul', 10)"
   ]
  },
  {
   "cell_type": "markdown",
   "metadata": {},
   "source": [
    "Posso mudar a ordem dos argumentos, mas para essa função que criamos devo explicitar exatamente quais são os argumentos que estou passando para cada parâmetro!"
   ]
  },
  {
   "cell_type": "code",
   "execution_count": 28,
   "metadata": {},
   "outputs": [
    {
     "ename": "TypeError",
     "evalue": "'<' not supported between instances of 'str' and 'int'",
     "output_type": "error",
     "traceback": [
      "\u001b[1;31m---------------------------------------------------------------------------\u001b[0m",
      "\u001b[1;31mTypeError\u001b[0m                                 Traceback (most recent call last)",
      "Cell \u001b[1;32mIn[28], line 1\u001b[0m\n\u001b[1;32m----> 1\u001b[0m \u001b[43mcumprimenta_horario\u001b[49m\u001b[43m(\u001b[49m\u001b[38;5;241;43m21\u001b[39;49m\u001b[43m,\u001b[49m\u001b[43m \u001b[49m\u001b[38;5;124;43m'\u001b[39;49m\u001b[38;5;124;43mraul\u001b[39;49m\u001b[38;5;124;43m'\u001b[39;49m\u001b[43m)\u001b[49m\n",
      "Cell \u001b[1;32mIn[25], line 2\u001b[0m, in \u001b[0;36mcumprimenta_horario\u001b[1;34m(nome, hora)\u001b[0m\n\u001b[0;32m      1\u001b[0m \u001b[38;5;28;01mdef\u001b[39;00m \u001b[38;5;21mcumprimenta_horario\u001b[39m(nome, hora):\n\u001b[1;32m----> 2\u001b[0m     \u001b[38;5;28;01mif\u001b[39;00m \u001b[43mhora\u001b[49m\u001b[43m \u001b[49m\u001b[38;5;241;43m<\u001b[39;49m\u001b[43m \u001b[49m\u001b[38;5;241;43m12\u001b[39;49m:\n\u001b[0;32m      3\u001b[0m         \u001b[38;5;28mprint\u001b[39m(\u001b[38;5;124mf\u001b[39m\u001b[38;5;124m'\u001b[39m\u001b[38;5;124mbom dia \u001b[39m\u001b[38;5;132;01m{\u001b[39;00mnome\u001b[38;5;132;01m}\u001b[39;00m\u001b[38;5;124m'\u001b[39m)\n\u001b[0;32m      4\u001b[0m     \u001b[38;5;28;01melif\u001b[39;00m hora \u001b[38;5;241m<\u001b[39m \u001b[38;5;241m18\u001b[39m:\n",
      "\u001b[1;31mTypeError\u001b[0m: '<' not supported between instances of 'str' and 'int'"
     ]
    }
   ],
   "source": [
    "cumprimenta_horario(21, 'raul')"
   ]
  },
  {
   "cell_type": "code",
   "execution_count": 29,
   "metadata": {},
   "outputs": [
    {
     "name": "stdout",
     "output_type": "stream",
     "text": [
      "boa noite raul\n"
     ]
    }
   ],
   "source": [
    "cumprimenta_horario(hora=421, nome='raul')"
   ]
  },
  {
   "cell_type": "markdown",
   "metadata": {},
   "source": [
    "**Mas e o return?**\n",
    "\n",
    "Todas as funções acima de fato fazer alguma operação, mas nós não conseguimos **acessar** o resultado das operações! Veja um exemplo mais claro: uma função que calcula a soma de dois números."
   ]
  },
  {
   "cell_type": "code",
   "execution_count": 35,
   "metadata": {},
   "outputs": [
    {
     "name": "stdout",
     "output_type": "stream",
     "text": [
      "3\n",
      "None\n"
     ]
    }
   ],
   "source": [
    "def calc_soma(n1, n2):\n",
    "    soma = n1 + n2\n",
    "    print(soma)\n",
    "\n",
    "resultado = calc_soma(1, 2)\n",
    "print(resultado)"
   ]
  },
  {
   "cell_type": "markdown",
   "metadata": {},
   "source": [
    "Note que a função calcula a soma do snúmeros, mas apenas exibe este resultado com o print\n",
    "\n",
    "**A varável \"soma\" é uma variável que existe apenas no interior da função!!**"
   ]
  },
  {
   "cell_type": "code",
   "execution_count": 36,
   "metadata": {},
   "outputs": [
    {
     "name": "stdout",
     "output_type": "stream",
     "text": [
      "3\n"
     ]
    }
   ],
   "source": [
    "def calc_soma(n1, n2):\n",
    "    soma = n1 + n2\n",
    "    # print(soma)\n",
    "    return soma\n",
    "\n",
    "resultado = calc_soma(1, 2)\n",
    "print(resultado)"
   ]
  },
  {
   "cell_type": "markdown",
   "metadata": {},
   "source": [
    "Se quisermos armazenar o valor da soma, podemos **retornar** o valor desta variável!!\n",
    "\n",
    "**OBS:** apenas o **valor** da variável é retornado, não o nome dela!!\n",
    "\n",
    "Fora da função, o nome da variável \"soma\" ainda continua não existindo"
   ]
  },
  {
   "cell_type": "code",
   "execution_count": 37,
   "metadata": {},
   "outputs": [
    {
     "ename": "NameError",
     "evalue": "name 'soma' is not defined",
     "output_type": "error",
     "traceback": [
      "\u001b[1;31m---------------------------------------------------------------------------\u001b[0m",
      "\u001b[1;31mNameError\u001b[0m                                 Traceback (most recent call last)",
      "Cell \u001b[1;32mIn[37], line 1\u001b[0m\n\u001b[1;32m----> 1\u001b[0m \u001b[43msoma\u001b[49m\n",
      "\u001b[1;31mNameError\u001b[0m: name 'soma' is not defined"
     ]
    }
   ],
   "source": [
    "soma"
   ]
  },
  {
   "cell_type": "markdown",
   "metadata": {},
   "source": [
    "Daí, basta armazenar o resultado retornado em uma variável, **como fazíamos com o input()!**"
   ]
  },
  {
   "cell_type": "code",
   "execution_count": 39,
   "metadata": {},
   "outputs": [
    {
     "name": "stdout",
     "output_type": "stream",
     "text": [
      "8\n"
     ]
    }
   ],
   "source": [
    "resultado_soma = calc_soma(5,3)\n",
    "print(resultado_soma)"
   ]
  },
  {
   "cell_type": "markdown",
   "metadata": {},
   "source": [
    "Um outro exemplo:"
   ]
  },
  {
   "cell_type": "code",
   "execution_count": null,
   "metadata": {},
   "outputs": [],
   "source": []
  },
  {
   "cell_type": "code",
   "execution_count": null,
   "metadata": {},
   "outputs": [],
   "source": []
  },
  {
   "cell_type": "markdown",
   "metadata": {},
   "source": [
    "Vamos elaborar um pouco mais?\n",
    "\n",
    "Que tal fazermos uma função calculadora?"
   ]
  },
  {
   "cell_type": "code",
   "execution_count": 48,
   "metadata": {},
   "outputs": [
    {
     "name": "stdout",
     "output_type": "stream",
     "text": [
      "0.5\n"
     ]
    }
   ],
   "source": [
    "def calculadora(n1:float, operador:str, n2:float) -> float:\n",
    "    n1 = float(n1)\n",
    "    n2 = float(n2)\n",
    "    operador = str(operador)\n",
    "    if operador == '+':\n",
    "        calculo = soma(n1, n2)\n",
    "    elif operador == '-':\n",
    "        calculo = n1 - n2\n",
    "    elif operador == '/':\n",
    "        calculo = n1 / n2\n",
    "    elif operador == '*':\n",
    "        calculo = n1 * n2\n",
    "    else:\n",
    "        print('Operador inválido, tente novamente.')\n",
    "\n",
    "    return float(calculo)\n",
    "\n",
    "def soma(n1, n2):\n",
    "    return n1 + n2\n",
    "\n",
    "print(calculadora(1, '/', 2))\n"
   ]
  },
  {
   "cell_type": "code",
   "execution_count": 43,
   "metadata": {},
   "outputs": [
    {
     "data": {
      "text/plain": [
       "3.0"
      ]
     },
     "execution_count": 43,
     "metadata": {},
     "output_type": "execute_result"
    }
   ],
   "source": []
  },
  {
   "cell_type": "markdown",
   "metadata": {},
   "source": [
    "É importante também destacar que conseguimos passar valores padrão (default) como argumentos da nossa função.\n",
    "\n",
    "Vamos ver no exemplo da calculadora como isso funcionaria, mas antes vamos olhar uma função que conhecemos. A print().\n",
    "\n",
    "documentação da print(): https://docs.python.org/3/library/functions.html#print"
   ]
  },
  {
   "cell_type": "code",
   "execution_count": null,
   "metadata": {},
   "outputs": [],
   "source": []
  },
  {
   "cell_type": "markdown",
   "metadata": {},
   "source": [
    "O argumento padrão que é recebido para o parâmetro \"sep\" é \" \"(espaço). Não precisamos passar argumentos para ele. Nesse caso, ele é opcional."
   ]
  },
  {
   "cell_type": "code",
   "execution_count": null,
   "metadata": {},
   "outputs": [],
   "source": []
  },
  {
   "cell_type": "markdown",
   "metadata": {},
   "source": [
    "Vamos ver como fazer para passar um argumento padrão para nossa função calculadora."
   ]
  },
  {
   "cell_type": "code",
   "execution_count": null,
   "metadata": {},
   "outputs": [],
   "source": []
  },
  {
   "cell_type": "code",
   "execution_count": null,
   "metadata": {},
   "outputs": [],
   "source": []
  },
  {
   "cell_type": "markdown",
   "metadata": {},
   "source": [
    "#### Exercícios"
   ]
  },
  {
   "cell_type": "markdown",
   "metadata": {},
   "source": [
    "1) Faça uma função que recebe um exto e uma letra e retorne a quantidade daquela letra naquele texto (ignore diferenças de capitalização, 'A' e 'a' são a mesma letra)"
   ]
  },
  {
   "cell_type": "code",
   "execution_count": null,
   "metadata": {},
   "outputs": [],
   "source": []
  },
  {
   "cell_type": "markdown",
   "metadata": {},
   "source": [
    "2) Faça uma função que receba uma string e retorna ela ao contrário."
   ]
  },
  {
   "cell_type": "code",
   "execution_count": null,
   "metadata": {},
   "outputs": [],
   "source": []
  },
  {
   "cell_type": "markdown",
   "metadata": {},
   "source": [
    "3) Agora faça uma função que recebe uma palavra e diz se ela é um palíndromo, ou seja, se ela é igual a ela mesma ao contrário.\n",
    "\n",
    "Sugestão: use a função do exercício anterior."
   ]
  },
  {
   "cell_type": "code",
   "execution_count": null,
   "metadata": {},
   "outputs": [],
   "source": []
  },
  {
   "cell_type": "markdown",
   "metadata": {},
   "source": [
    "4) Faça uma função max lista que faz a mesma coisa que a função max faz ao receber uma lista."
   ]
  },
  {
   "cell_type": "code",
   "execution_count": 40,
   "metadata": {},
   "outputs": [
    {
     "data": {
      "text/plain": [
       "29"
      ]
     },
     "execution_count": 40,
     "metadata": {},
     "output_type": "execute_result"
    }
   ],
   "source": [
    "max([1,2,5,29,1])"
   ]
  },
  {
   "cell_type": "code",
   "execution_count": null,
   "metadata": {},
   "outputs": [],
   "source": []
  }
 ],
 "metadata": {
  "kernelspec": {
   "display_name": "venv",
   "language": "python",
   "name": "python3"
  },
  "language_info": {
   "codemirror_mode": {
    "name": "ipython",
    "version": 3
   },
   "file_extension": ".py",
   "mimetype": "text/x-python",
   "name": "python",
   "nbconvert_exporter": "python",
   "pygments_lexer": "ipython3",
   "version": "3.12.2"
  }
 },
 "nbformat": 4,
 "nbformat_minor": 2
}
